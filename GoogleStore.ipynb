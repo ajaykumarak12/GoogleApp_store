{
 "cells": [
  {
   "cell_type": "markdown",
   "id": "801c7a08",
   "metadata": {},
   "source": [
    "# GOOGLE APP STORE"
   ]
  },
  {
   "cell_type": "markdown",
   "id": "73bf8952",
   "metadata": {},
   "source": [
    "#  IMPORT NECESSARY LIBRARIES"
   ]
  },
  {
   "cell_type": "code",
   "execution_count": 69,
   "id": "ed615ba9",
   "metadata": {},
   "outputs": [],
   "source": [
    "import numpy as np\n",
    "import pandas as pd\n",
    "import seaborn as sns\n",
    "import matplotlib.pyplot as plt"
   ]
  },
  {
   "cell_type": "markdown",
   "id": "090d9723",
   "metadata": {},
   "source": [
    "# READING THE DATA"
   ]
  },
  {
   "cell_type": "code",
   "execution_count": 70,
   "id": "467f1825",
   "metadata": {},
   "outputs": [
    {
     "data": {
      "text/html": [
       "<div>\n",
       "<style scoped>\n",
       "    .dataframe tbody tr th:only-of-type {\n",
       "        vertical-align: middle;\n",
       "    }\n",
       "\n",
       "    .dataframe tbody tr th {\n",
       "        vertical-align: top;\n",
       "    }\n",
       "\n",
       "    .dataframe thead th {\n",
       "        text-align: right;\n",
       "    }\n",
       "</style>\n",
       "<table border=\"1\" class=\"dataframe\">\n",
       "  <thead>\n",
       "    <tr style=\"text-align: right;\">\n",
       "      <th></th>\n",
       "      <th>App</th>\n",
       "      <th>Category</th>\n",
       "      <th>Rating</th>\n",
       "      <th>Reviews</th>\n",
       "      <th>Size</th>\n",
       "      <th>Installs</th>\n",
       "      <th>Type</th>\n",
       "      <th>Price</th>\n",
       "      <th>Content Rating</th>\n",
       "      <th>Genres</th>\n",
       "      <th>Last Updated</th>\n",
       "      <th>Current Ver</th>\n",
       "      <th>Android Ver</th>\n",
       "    </tr>\n",
       "  </thead>\n",
       "  <tbody>\n",
       "    <tr>\n",
       "      <th>0</th>\n",
       "      <td>Photo Editor &amp; Candy Camera &amp; Grid &amp; ScrapBook</td>\n",
       "      <td>ART_AND_DESIGN</td>\n",
       "      <td>4.1</td>\n",
       "      <td>159</td>\n",
       "      <td>19M</td>\n",
       "      <td>10,000+</td>\n",
       "      <td>Free</td>\n",
       "      <td>0</td>\n",
       "      <td>Everyone</td>\n",
       "      <td>Art &amp; Design</td>\n",
       "      <td>January 7, 2018</td>\n",
       "      <td>1.0.0</td>\n",
       "      <td>4.0.3 and up</td>\n",
       "    </tr>\n",
       "    <tr>\n",
       "      <th>1</th>\n",
       "      <td>Coloring book moana</td>\n",
       "      <td>ART_AND_DESIGN</td>\n",
       "      <td>3.9</td>\n",
       "      <td>967</td>\n",
       "      <td>14M</td>\n",
       "      <td>500,000+</td>\n",
       "      <td>Free</td>\n",
       "      <td>0</td>\n",
       "      <td>Everyone</td>\n",
       "      <td>Art &amp; Design;Pretend Play</td>\n",
       "      <td>January 15, 2018</td>\n",
       "      <td>2.0.0</td>\n",
       "      <td>4.0.3 and up</td>\n",
       "    </tr>\n",
       "    <tr>\n",
       "      <th>2</th>\n",
       "      <td>U Launcher Lite – FREE Live Cool Themes, Hide ...</td>\n",
       "      <td>ART_AND_DESIGN</td>\n",
       "      <td>4.7</td>\n",
       "      <td>87510</td>\n",
       "      <td>8.7M</td>\n",
       "      <td>5,000,000+</td>\n",
       "      <td>Free</td>\n",
       "      <td>0</td>\n",
       "      <td>Everyone</td>\n",
       "      <td>Art &amp; Design</td>\n",
       "      <td>August 1, 2018</td>\n",
       "      <td>1.2.4</td>\n",
       "      <td>4.0.3 and up</td>\n",
       "    </tr>\n",
       "    <tr>\n",
       "      <th>3</th>\n",
       "      <td>Sketch - Draw &amp; Paint</td>\n",
       "      <td>ART_AND_DESIGN</td>\n",
       "      <td>4.5</td>\n",
       "      <td>215644</td>\n",
       "      <td>25M</td>\n",
       "      <td>50,000,000+</td>\n",
       "      <td>Free</td>\n",
       "      <td>0</td>\n",
       "      <td>Teen</td>\n",
       "      <td>Art &amp; Design</td>\n",
       "      <td>June 8, 2018</td>\n",
       "      <td>Varies with device</td>\n",
       "      <td>4.2 and up</td>\n",
       "    </tr>\n",
       "    <tr>\n",
       "      <th>4</th>\n",
       "      <td>Pixel Draw - Number Art Coloring Book</td>\n",
       "      <td>ART_AND_DESIGN</td>\n",
       "      <td>4.3</td>\n",
       "      <td>967</td>\n",
       "      <td>2.8M</td>\n",
       "      <td>100,000+</td>\n",
       "      <td>Free</td>\n",
       "      <td>0</td>\n",
       "      <td>Everyone</td>\n",
       "      <td>Art &amp; Design;Creativity</td>\n",
       "      <td>June 20, 2018</td>\n",
       "      <td>1.1</td>\n",
       "      <td>4.4 and up</td>\n",
       "    </tr>\n",
       "  </tbody>\n",
       "</table>\n",
       "</div>"
      ],
      "text/plain": [
       "                                                 App        Category  Rating  \\\n",
       "0     Photo Editor & Candy Camera & Grid & ScrapBook  ART_AND_DESIGN     4.1   \n",
       "1                                Coloring book moana  ART_AND_DESIGN     3.9   \n",
       "2  U Launcher Lite – FREE Live Cool Themes, Hide ...  ART_AND_DESIGN     4.7   \n",
       "3                              Sketch - Draw & Paint  ART_AND_DESIGN     4.5   \n",
       "4              Pixel Draw - Number Art Coloring Book  ART_AND_DESIGN     4.3   \n",
       "\n",
       "  Reviews  Size     Installs  Type Price Content Rating  \\\n",
       "0     159   19M      10,000+  Free     0       Everyone   \n",
       "1     967   14M     500,000+  Free     0       Everyone   \n",
       "2   87510  8.7M   5,000,000+  Free     0       Everyone   \n",
       "3  215644   25M  50,000,000+  Free     0           Teen   \n",
       "4     967  2.8M     100,000+  Free     0       Everyone   \n",
       "\n",
       "                      Genres      Last Updated         Current Ver  \\\n",
       "0               Art & Design   January 7, 2018               1.0.0   \n",
       "1  Art & Design;Pretend Play  January 15, 2018               2.0.0   \n",
       "2               Art & Design    August 1, 2018               1.2.4   \n",
       "3               Art & Design      June 8, 2018  Varies with device   \n",
       "4    Art & Design;Creativity     June 20, 2018                 1.1   \n",
       "\n",
       "    Android Ver  \n",
       "0  4.0.3 and up  \n",
       "1  4.0.3 and up  \n",
       "2  4.0.3 and up  \n",
       "3    4.2 and up  \n",
       "4    4.4 and up  "
      ]
     },
     "execution_count": 70,
     "metadata": {},
     "output_type": "execute_result"
    }
   ],
   "source": [
    "df = pd.read_csv('Apps_data+(1).csv', low_memory=False)\n",
    "df.head()"
   ]
  },
  {
   "cell_type": "markdown",
   "id": "86211d12",
   "metadata": {},
   "source": [
    "# SHAPE AND INFO OF THE DATA"
   ]
  },
  {
   "cell_type": "code",
   "execution_count": 71,
   "id": "2da2d64d",
   "metadata": {},
   "outputs": [
    {
     "data": {
      "text/plain": [
       "(10841, 13)"
      ]
     },
     "execution_count": 71,
     "metadata": {},
     "output_type": "execute_result"
    }
   ],
   "source": [
    "df.shape"
   ]
  },
  {
   "cell_type": "code",
   "execution_count": 72,
   "id": "711ff1f1",
   "metadata": {},
   "outputs": [
    {
     "name": "stdout",
     "output_type": "stream",
     "text": [
      "<class 'pandas.core.frame.DataFrame'>\n",
      "RangeIndex: 10841 entries, 0 to 10840\n",
      "Data columns (total 13 columns):\n",
      " #   Column          Non-Null Count  Dtype  \n",
      "---  ------          --------------  -----  \n",
      " 0   App             10841 non-null  object \n",
      " 1   Category        10841 non-null  object \n",
      " 2   Rating          9367 non-null   float64\n",
      " 3   Reviews         10841 non-null  object \n",
      " 4   Size            10841 non-null  object \n",
      " 5   Installs        10841 non-null  object \n",
      " 6   Type            10840 non-null  object \n",
      " 7   Price           10841 non-null  object \n",
      " 8   Content Rating  10840 non-null  object \n",
      " 9   Genres          10841 non-null  object \n",
      " 10  Last Updated    10841 non-null  object \n",
      " 11  Current Ver     10833 non-null  object \n",
      " 12  Android Ver     10838 non-null  object \n",
      "dtypes: float64(1), object(12)\n",
      "memory usage: 1.1+ MB\n"
     ]
    }
   ],
   "source": [
    "df.info()"
   ]
  },
  {
   "cell_type": "markdown",
   "id": "f23de299",
   "metadata": {},
   "source": [
    "SUMMARY STATISTICS OF DATASET"
   ]
  },
  {
   "cell_type": "code",
   "execution_count": 73,
   "id": "2de364b1",
   "metadata": {},
   "outputs": [
    {
     "data": {
      "text/html": [
       "<div>\n",
       "<style scoped>\n",
       "    .dataframe tbody tr th:only-of-type {\n",
       "        vertical-align: middle;\n",
       "    }\n",
       "\n",
       "    .dataframe tbody tr th {\n",
       "        vertical-align: top;\n",
       "    }\n",
       "\n",
       "    .dataframe thead th {\n",
       "        text-align: right;\n",
       "    }\n",
       "</style>\n",
       "<table border=\"1\" class=\"dataframe\">\n",
       "  <thead>\n",
       "    <tr style=\"text-align: right;\">\n",
       "      <th></th>\n",
       "      <th>Rating</th>\n",
       "    </tr>\n",
       "  </thead>\n",
       "  <tbody>\n",
       "    <tr>\n",
       "      <th>count</th>\n",
       "      <td>9367.000000</td>\n",
       "    </tr>\n",
       "    <tr>\n",
       "      <th>mean</th>\n",
       "      <td>4.193338</td>\n",
       "    </tr>\n",
       "    <tr>\n",
       "      <th>std</th>\n",
       "      <td>0.537431</td>\n",
       "    </tr>\n",
       "    <tr>\n",
       "      <th>min</th>\n",
       "      <td>1.000000</td>\n",
       "    </tr>\n",
       "    <tr>\n",
       "      <th>25%</th>\n",
       "      <td>4.000000</td>\n",
       "    </tr>\n",
       "    <tr>\n",
       "      <th>50%</th>\n",
       "      <td>4.300000</td>\n",
       "    </tr>\n",
       "    <tr>\n",
       "      <th>75%</th>\n",
       "      <td>4.500000</td>\n",
       "    </tr>\n",
       "    <tr>\n",
       "      <th>max</th>\n",
       "      <td>19.000000</td>\n",
       "    </tr>\n",
       "  </tbody>\n",
       "</table>\n",
       "</div>"
      ],
      "text/plain": [
       "            Rating\n",
       "count  9367.000000\n",
       "mean      4.193338\n",
       "std       0.537431\n",
       "min       1.000000\n",
       "25%       4.000000\n",
       "50%       4.300000\n",
       "75%       4.500000\n",
       "max      19.000000"
      ]
     },
     "execution_count": 73,
     "metadata": {},
     "output_type": "execute_result"
    }
   ],
   "source": [
    "df.describe()"
   ]
  },
  {
   "cell_type": "code",
   "execution_count": 74,
   "id": "82343c9f",
   "metadata": {},
   "outputs": [
    {
     "data": {
      "text/html": [
       "<div>\n",
       "<style scoped>\n",
       "    .dataframe tbody tr th:only-of-type {\n",
       "        vertical-align: middle;\n",
       "    }\n",
       "\n",
       "    .dataframe tbody tr th {\n",
       "        vertical-align: top;\n",
       "    }\n",
       "\n",
       "    .dataframe thead th {\n",
       "        text-align: right;\n",
       "    }\n",
       "</style>\n",
       "<table border=\"1\" class=\"dataframe\">\n",
       "  <thead>\n",
       "    <tr style=\"text-align: right;\">\n",
       "      <th></th>\n",
       "      <th>App</th>\n",
       "      <th>Category</th>\n",
       "      <th>Reviews</th>\n",
       "      <th>Size</th>\n",
       "      <th>Installs</th>\n",
       "      <th>Type</th>\n",
       "      <th>Price</th>\n",
       "      <th>Content Rating</th>\n",
       "      <th>Genres</th>\n",
       "      <th>Last Updated</th>\n",
       "      <th>Current Ver</th>\n",
       "      <th>Android Ver</th>\n",
       "    </tr>\n",
       "  </thead>\n",
       "  <tbody>\n",
       "    <tr>\n",
       "      <th>count</th>\n",
       "      <td>10841</td>\n",
       "      <td>10841</td>\n",
       "      <td>10841</td>\n",
       "      <td>10841</td>\n",
       "      <td>10841</td>\n",
       "      <td>10840</td>\n",
       "      <td>10841</td>\n",
       "      <td>10840</td>\n",
       "      <td>10841</td>\n",
       "      <td>10841</td>\n",
       "      <td>10833</td>\n",
       "      <td>10838</td>\n",
       "    </tr>\n",
       "    <tr>\n",
       "      <th>unique</th>\n",
       "      <td>9660</td>\n",
       "      <td>34</td>\n",
       "      <td>6002</td>\n",
       "      <td>462</td>\n",
       "      <td>22</td>\n",
       "      <td>3</td>\n",
       "      <td>93</td>\n",
       "      <td>6</td>\n",
       "      <td>120</td>\n",
       "      <td>1378</td>\n",
       "      <td>2832</td>\n",
       "      <td>33</td>\n",
       "    </tr>\n",
       "    <tr>\n",
       "      <th>top</th>\n",
       "      <td>ROBLOX</td>\n",
       "      <td>FAMILY</td>\n",
       "      <td>0</td>\n",
       "      <td>Varies with device</td>\n",
       "      <td>1,000,000+</td>\n",
       "      <td>Free</td>\n",
       "      <td>0</td>\n",
       "      <td>Everyone</td>\n",
       "      <td>Tools</td>\n",
       "      <td>August 3, 2018</td>\n",
       "      <td>Varies with device</td>\n",
       "      <td>4.1 and up</td>\n",
       "    </tr>\n",
       "    <tr>\n",
       "      <th>freq</th>\n",
       "      <td>9</td>\n",
       "      <td>1972</td>\n",
       "      <td>596</td>\n",
       "      <td>1695</td>\n",
       "      <td>1579</td>\n",
       "      <td>10039</td>\n",
       "      <td>10040</td>\n",
       "      <td>8714</td>\n",
       "      <td>842</td>\n",
       "      <td>326</td>\n",
       "      <td>1459</td>\n",
       "      <td>2451</td>\n",
       "    </tr>\n",
       "  </tbody>\n",
       "</table>\n",
       "</div>"
      ],
      "text/plain": [
       "           App Category Reviews                Size    Installs   Type  Price  \\\n",
       "count    10841    10841   10841               10841       10841  10840  10841   \n",
       "unique    9660       34    6002                 462          22      3     93   \n",
       "top     ROBLOX   FAMILY       0  Varies with device  1,000,000+   Free      0   \n",
       "freq         9     1972     596                1695        1579  10039  10040   \n",
       "\n",
       "       Content Rating Genres    Last Updated         Current Ver Android Ver  \n",
       "count           10840  10841           10841               10833       10838  \n",
       "unique              6    120            1378                2832          33  \n",
       "top          Everyone  Tools  August 3, 2018  Varies with device  4.1 and up  \n",
       "freq             8714    842             326                1459        2451  "
      ]
     },
     "execution_count": 74,
     "metadata": {},
     "output_type": "execute_result"
    }
   ],
   "source": [
    "df.describe(include='object')"
   ]
  },
  {
   "cell_type": "markdown",
   "id": "86e46869",
   "metadata": {},
   "source": [
    "# DROPPING THE DUPLICATE RECORDS "
   ]
  },
  {
   "cell_type": "code",
   "execution_count": 75,
   "id": "f87c0e20",
   "metadata": {},
   "outputs": [
    {
     "data": {
      "text/plain": [
       "483"
      ]
     },
     "execution_count": 75,
     "metadata": {},
     "output_type": "execute_result"
    }
   ],
   "source": [
    "df.duplicated().sum()"
   ]
  },
  {
   "cell_type": "code",
   "execution_count": 76,
   "id": "edcda104",
   "metadata": {},
   "outputs": [
    {
     "data": {
      "text/plain": [
       "0"
      ]
     },
     "execution_count": 76,
     "metadata": {},
     "output_type": "execute_result"
    }
   ],
   "source": [
    "df.drop_duplicates(inplace=True)\n",
    "df.duplicated().sum()"
   ]
  },
  {
   "cell_type": "markdown",
   "id": "f2aaf6ae",
   "metadata": {},
   "source": [
    "# UNIQUE CATEGORIES OF THE COLUMN 'CATEGORY'"
   ]
  },
  {
   "cell_type": "code",
   "execution_count": 77,
   "id": "dc00b404",
   "metadata": {},
   "outputs": [
    {
     "data": {
      "text/plain": [
       "array(['ART_AND_DESIGN', 'AUTO_AND_VEHICLES', 'BEAUTY',\n",
       "       'BOOKS_AND_REFERENCE', 'BUSINESS', 'COMICS', 'COMMUNICATION',\n",
       "       'DATING', 'EDUCATION', 'ENTERTAINMENT', 'EVENTS', 'FINANCE',\n",
       "       'FOOD_AND_DRINK', 'HEALTH_AND_FITNESS', 'HOUSE_AND_HOME',\n",
       "       'LIBRARIES_AND_DEMO', 'LIFESTYLE', 'GAME', 'FAMILY', 'MEDICAL',\n",
       "       'SOCIAL', 'SHOPPING', 'PHOTOGRAPHY', 'SPORTS', 'TRAVEL_AND_LOCAL',\n",
       "       'TOOLS', 'PERSONALIZATION', 'PRODUCTIVITY', 'PARENTING', 'WEATHER',\n",
       "       'VIDEO_PLAYERS', 'NEWS_AND_MAGAZINES', 'MAPS_AND_NAVIGATION',\n",
       "       '1.9'], dtype=object)"
      ]
     },
     "execution_count": 77,
     "metadata": {},
     "output_type": "execute_result"
    }
   ],
   "source": [
    "df['Category'].unique()"
   ]
  },
  {
   "cell_type": "markdown",
   "id": "a9a75938",
   "metadata": {},
   "source": [
    "# DROPPING INVALID CATEGORY'1.9'"
   ]
  },
  {
   "cell_type": "code",
   "execution_count": 78,
   "id": "874dbce1",
   "metadata": {},
   "outputs": [
    {
     "data": {
      "text/plain": [
       "array(['ART_AND_DESIGN', 'AUTO_AND_VEHICLES', 'BEAUTY',\n",
       "       'BOOKS_AND_REFERENCE', 'BUSINESS', 'COMICS', 'COMMUNICATION',\n",
       "       'DATING', 'EDUCATION', 'ENTERTAINMENT', 'EVENTS', 'FINANCE',\n",
       "       'FOOD_AND_DRINK', 'HEALTH_AND_FITNESS', 'HOUSE_AND_HOME',\n",
       "       'LIBRARIES_AND_DEMO', 'LIFESTYLE', 'GAME', 'FAMILY', 'MEDICAL',\n",
       "       'SOCIAL', 'SHOPPING', 'PHOTOGRAPHY', 'SPORTS', 'TRAVEL_AND_LOCAL',\n",
       "       'TOOLS', 'PERSONALIZATION', 'PRODUCTIVITY', 'PARENTING', 'WEATHER',\n",
       "       'VIDEO_PLAYERS', 'NEWS_AND_MAGAZINES', 'MAPS_AND_NAVIGATION'],\n",
       "      dtype=object)"
      ]
     },
     "execution_count": 78,
     "metadata": {},
     "output_type": "execute_result"
    }
   ],
   "source": [
    "category_to_drop = '1.9'\n",
    "df = df[df['Category'] != category_to_drop]\n",
    "df['Category'].unique()"
   ]
  },
  {
   "cell_type": "markdown",
   "id": "30ff1f99",
   "metadata": {},
   "source": [
    "# CHECKING NULL VALUES IN 'RATING'"
   ]
  },
  {
   "cell_type": "code",
   "execution_count": 79,
   "id": "a5a736ce",
   "metadata": {},
   "outputs": [
    {
     "data": {
      "text/plain": [
       "1465"
      ]
     },
     "execution_count": 79,
     "metadata": {},
     "output_type": "execute_result"
    }
   ],
   "source": [
    "df['Rating'].isnull().sum()"
   ]
  },
  {
   "cell_type": "code",
   "execution_count": 80,
   "id": "adcbad0b",
   "metadata": {},
   "outputs": [
    {
     "data": {
      "text/plain": [
       "0"
      ]
     },
     "execution_count": 80,
     "metadata": {},
     "output_type": "execute_result"
    }
   ],
   "source": [
    "df = df.dropna(subset=['Rating'])\n",
    "df.Rating.isnull().sum()"
   ]
  },
  {
   "cell_type": "markdown",
   "id": "4b915e9a",
   "metadata": {},
   "source": [
    "# CREATING RATING_CATEGORY COLUMN"
   ]
  },
  {
   "cell_type": "code",
   "execution_count": 81,
   "id": "266a4e72",
   "metadata": {},
   "outputs": [
    {
     "data": {
      "text/plain": [
       "0        High\n",
       "1        High\n",
       "2        High\n",
       "3        High\n",
       "4        High\n",
       "         ... \n",
       "10834    High\n",
       "10836    High\n",
       "10837    High\n",
       "10839    High\n",
       "10840    High\n",
       "Name: Rating_category, Length: 8892, dtype: object"
      ]
     },
     "execution_count": 81,
     "metadata": {},
     "output_type": "execute_result"
    }
   ],
   "source": [
    "df['Rating_category'] = df['Rating'].apply(lambda x: 'High' if x > 3.5 else 'Low')\n",
    "df['Rating_category']"
   ]
  },
  {
   "cell_type": "code",
   "execution_count": 82,
   "id": "5bca9908",
   "metadata": {},
   "outputs": [
    {
     "data": {
      "text/plain": [
       "Rating_category\n",
       "High    8012\n",
       "Low      880\n",
       "Name: count, dtype: int64"
      ]
     },
     "execution_count": 82,
     "metadata": {},
     "output_type": "execute_result"
    }
   ],
   "source": [
    "df['Rating_category'].value_counts()"
   ]
  },
  {
   "cell_type": "markdown",
   "id": "efb6aa69",
   "metadata": {},
   "source": [
    "# DISTRIBUTION OF RATING_CATEGORY"
   ]
  },
  {
   "cell_type": "code",
   "execution_count": null,
   "id": "2f3d2eae",
   "metadata": {},
   "outputs": [
    {
     "data": {
      "text/plain": [
       "<Axes: xlabel='Rating_category', ylabel='count'>"
      ]
     },
     "execution_count": 83,
     "metadata": {},
     "output_type": "execute_result"
    }
   ],
   "source": [
    "sns.countplot(data=df,x='Rating_category')"
   ]
  },
  {
   "cell_type": "markdown",
   "id": "59bc5079",
   "metadata": {},
   "source": [
    "# CHANGING THE DATATYPE OF REVIEWS AND HANDLING OUTLIERS USING LOG TRANSFORMATION"
   ]
  },
  {
   "cell_type": "code",
   "execution_count": null,
   "id": "c9f3a29b",
   "metadata": {},
   "outputs": [],
   "source": [
    "df['Reviews'] = pd.to_numeric(df['Reviews'])\n",
    "df['Reviews'].notnull().sum()"
   ]
  },
  {
   "cell_type": "code",
   "execution_count": null,
   "id": "69af3fdc",
   "metadata": {},
   "outputs": [],
   "source": [
    "sns.boxplot(x='Reviews',data=df)\n",
    "plt.title('Reviews_numeric')\n",
    "plt.show()"
   ]
  },
  {
   "cell_type": "code",
   "execution_count": null,
   "id": "31a0020f",
   "metadata": {},
   "outputs": [],
   "source": [
    "df['Reviews_log'] = np.log1p(df['Reviews'])"
   ]
  },
  {
   "cell_type": "code",
   "execution_count": null,
   "id": "e1d3d06a",
   "metadata": {},
   "outputs": [],
   "source": [
    "sns.boxplot(x='Reviews_log',data=df)\n",
    "plt.title('Reviews_log-Transformed')\n",
    "plt.show()"
   ]
  },
  {
   "cell_type": "markdown",
   "id": "1767b536",
   "metadata": {},
   "source": [
    "# TREAT THE NON NUMERIC DATA AND CONVERT COLUMN INTO SUITABLE DTYPE"
   ]
  },
  {
   "cell_type": "code",
   "execution_count": null,
   "id": "4740a5df",
   "metadata": {},
   "outputs": [],
   "source": [
    "df = df[df['Size'] != 'Varies with device']\n",
    "def convert_num(values):\n",
    "    return values.replace({'M':'e6','k': 'e3'},regex=True).map(pd.eval).astype(float)\n",
    "convert_num(df['Size'])\n",
    "df['Size'] = convert_num(df['Size'])\n",
    "df['Size']"
   ]
  },
  {
   "cell_type": "markdown",
   "id": "c0f5f627",
   "metadata": {},
   "source": [
    "# REMOVING  THE UNWANTED CHARACTERS AND CHANGING THE DATATYPE"
   ]
  },
  {
   "cell_type": "code",
   "execution_count": null,
   "id": "c17d4d0b",
   "metadata": {
    "scrolled": true
   },
   "outputs": [],
   "source": [
    "df['Installs'] = df['Installs'].astype(str)\n",
    "df['Installs'] = df['Installs'].str.replace('[+,]', '', regex=True).astype(int)\n",
    "df"
   ]
  },
  {
   "cell_type": "code",
   "execution_count": null,
   "id": "fc087405",
   "metadata": {},
   "outputs": [],
   "source": [
    "df['Price'].value_counts()"
   ]
  },
  {
   "cell_type": "code",
   "execution_count": null,
   "id": "f74bbcad",
   "metadata": {},
   "outputs": [],
   "source": [
    "df['Price'] = df['Price'].astype(str)\n",
    "df['Price'] = df['Price'].str.replace('$','')\n",
    "df['Price'] = df['Price'].str.replace('.','')\n",
    "df['Price']"
   ]
  },
  {
   "cell_type": "markdown",
   "id": "9afeee9a",
   "metadata": {},
   "source": [
    "# DROPPING THE COLUMNS (REDUNDANT FOR THE ANALYSIS)"
   ]
  },
  {
   "cell_type": "code",
   "execution_count": null,
   "id": "1d294f8c",
   "metadata": {},
   "outputs": [],
   "source": [
    "df= df.drop(columns=['Rating','App','Genres','Last Updated','Current Ver', 'Android Ver'])\n",
    "df"
   ]
  },
  {
   "cell_type": "markdown",
   "id": "1c8470b2",
   "metadata": {},
   "source": [
    "# ENCODE THE CATEGORICAL COLUMNS"
   ]
  },
  {
   "cell_type": "code",
   "execution_count": null,
   "id": "b2839ce8",
   "metadata": {},
   "outputs": [],
   "source": [
    "df2= df.copy()\n",
    "df2 = pd.get_dummies(data=df2,prefix='Category',drop_first=True,columns=['Category'])\n",
    "df2 = pd.get_dummies(data=df2,prefix='Type',drop_first=True,columns=['Type'])\n",
    "df2 = pd.get_dummies(data=df2,prefix='Content Rating',drop_first=True,columns=['Content Rating'])\n",
    "df2"
   ]
  },
  {
   "cell_type": "markdown",
   "id": "b0267723",
   "metadata": {},
   "source": [
    "# SEGREGATING THE DATASET"
   ]
  },
  {
   "cell_type": "code",
   "execution_count": null,
   "id": "759b9310",
   "metadata": {},
   "outputs": [],
   "source": [
    "target = df2['Rating_category']\n",
    "independent_feature =df2.drop('Rating_category',axis=1)\n",
    "target"
   ]
  },
  {
   "cell_type": "code",
   "execution_count": null,
   "id": "56555500",
   "metadata": {},
   "outputs": [],
   "source": [
    "independent_feature"
   ]
  },
  {
   "cell_type": "markdown",
   "id": "519e056c",
   "metadata": {},
   "source": [
    "# SPLITTING THE DATASET"
   ]
  },
  {
   "cell_type": "code",
   "execution_count": null,
   "id": "cc427f03",
   "metadata": {},
   "outputs": [],
   "source": [
    "from sklearn.model_selection import train_test_split\n",
    "x_train,x_test,y_train,y_test = train_test_split(independent_feature,target,test_size=0.3)"
   ]
  },
  {
   "cell_type": "markdown",
   "id": "78f6d35f",
   "metadata": {},
   "source": [
    "# STANDARDIZING THE DATASET"
   ]
  },
  {
   "cell_type": "code",
   "execution_count": null,
   "id": "7eabf921",
   "metadata": {},
   "outputs": [],
   "source": [
    "from sklearn.preprocessing import StandardScaler\n",
    "num_columns=['Reviews','Size','Installs','Price']\n",
    "std_sclr = StandardScaler()\n",
    "df2[num_columns]=std_sclr.fit_transform(df2[num_columns])\n",
    "df2"
   ]
  },
  {
   "cell_type": "markdown",
   "id": "4bc2c38b",
   "metadata": {},
   "source": [
    "# HONEY PRODUCTION"
   ]
  },
  {
   "cell_type": "markdown",
   "id": "4d8867f7",
   "metadata": {},
   "source": [
    "# IMPORT NECESSARY LIBRARIES"
   ]
  },
  {
   "cell_type": "code",
   "execution_count": null,
   "id": "a6176a28",
   "metadata": {},
   "outputs": [],
   "source": [
    "import numpy as np\n",
    "import pandas as pd\n",
    "import seaborn as sns\n",
    "import matplotlib.pyplot as plt \n",
    "import warnings\n",
    "warnings.filterwarnings(\"ignore\")"
   ]
  },
  {
   "cell_type": "markdown",
   "id": "2fa713d9",
   "metadata": {},
   "source": [
    "# READING DATASET"
   ]
  },
  {
   "cell_type": "code",
   "execution_count": null,
   "id": "9acb3431",
   "metadata": {},
   "outputs": [],
   "source": [
    "df1 = pd.read_csv('honeyproduction.csv', low_memory = False)\n",
    "df1.head()"
   ]
  },
  {
   "cell_type": "code",
   "execution_count": null,
   "id": "b0eb1f56",
   "metadata": {},
   "outputs": [],
   "source": [
    "df1.shape"
   ]
  },
  {
   "cell_type": "code",
   "execution_count": null,
   "id": "21418eb6",
   "metadata": {},
   "outputs": [],
   "source": [
    "df1.info()"
   ]
  },
  {
   "cell_type": "markdown",
   "id": "e682ca59",
   "metadata": {},
   "source": [
    "# PERCENTAGE DISTRIBUTION OF DATA IN EACH YEAR"
   ]
  },
  {
   "cell_type": "code",
   "execution_count": null,
   "id": "fcbf9799",
   "metadata": {},
   "outputs": [],
   "source": [
    "df1['year'].value_counts()"
   ]
  },
  {
   "cell_type": "code",
   "execution_count": null,
   "id": "8999ed6f",
   "metadata": {},
   "outputs": [],
   "source": [
    "year_values = [44,44,44,43,43,43,41,41,41,41,41,40,40,40,40]\n",
    "\n",
    "years = [2001,2002,2003,1998,1999,2000,2004,2005,2006,2007,2008,2009,2010,2011,2012]\n",
    "plt.figure(figsize=(12,10))\n",
    "plt.pie(year_values, labels= years,autopct='%1.1f%%', startangle=90, shadow =False)\n",
    "plt.title('Percentage Distribution by Year')\n",
    "plt.axis('equal')\n",
    "plt.show()"
   ]
  },
  {
   "cell_type": "markdown",
   "id": "d2505423",
   "metadata": {},
   "source": [
    "# DISTRIBUTION OF PRICE PER LB USING DISPLOT"
   ]
  },
  {
   "cell_type": "code",
   "execution_count": null,
   "id": "6e8097bd",
   "metadata": {},
   "outputs": [],
   "source": [
    "sns.displot(data=df1,x=\"priceperlb\",kde=True,color='blue')\n"
   ]
  },
  {
   "cell_type": "markdown",
   "id": "e726794e",
   "metadata": {},
   "source": [
    "Distribution of the variable\"priceperlb\" is right-skewed , meaning the most of the values are concentrated on the left side of the plot and there are some outliers on the right\n",
    " \n",
    "Mean value of the variable is slightly higher  than the median , indicating that the distribution is not symmetric\n",
    "\n"
   ]
  },
  {
   "cell_type": "markdown",
   "id": "e5fd81ff",
   "metadata": {},
   "source": [
    "# SCATTER PLOT (NUMCOL AND PRODVALUE)"
   ]
  },
  {
   "cell_type": "code",
   "execution_count": null,
   "id": "105c7cbe",
   "metadata": {
    "scrolled": true
   },
   "outputs": [],
   "source": [
    "plt.figure(figsize=(8,6))\n",
    "plt.scatter(df1['numcol'],df1['prodvalue'],c='blue',marker='o')\n",
    "plt.title('Relationship between numcol and prodvalue')\n",
    "plt.xlabel('numcol')\n",
    "plt.ylabel('prodvalue')\n",
    "plt.show()"
   ]
  },
  {
   "cell_type": "markdown",
   "id": "0b1438de",
   "metadata": {},
   "source": [
    "The relationship between numcol and prodval is positive, meaning that as the number of honey producing colony increases, the production value also increases.\n",
    "\n",
    "The relationship also linear,meaning that there is a constant rate of change between the two variables.\n",
    "\n",
    "The relationship is strong. because, the points are close to the line of best fit.\n"
   ]
  },
  {
   "cell_type": "markdown",
   "id": "7737e5cc",
   "metadata": {},
   "source": [
    "# BOXPLOT ( YEAR AND PRODVALUE)"
   ]
  },
  {
   "cell_type": "code",
   "execution_count": null,
   "id": "e754d8f2",
   "metadata": {},
   "outputs": [],
   "source": [
    "plt.figure(figsize=(12,10))\n",
    "sns.boxplot(data=df1,x='year',y='prodvalue')\n",
    "plt.show()"
   ]
  },
  {
   "cell_type": "markdown",
   "id": "8832c4f3",
   "metadata": {},
   "source": [
    "The production value of honey varies over the years.\n",
    "\n",
    "The relationship between  year and production value is non linear, meaning that the rate of change of production value is not constant across the years.\n",
    "\n",
    "The year 2012 has less outliers comparing all the other years."
   ]
  },
  {
   "cell_type": "markdown",
   "id": "c89645bd",
   "metadata": {},
   "source": [
    "# PAIRPLOT"
   ]
  },
  {
   "cell_type": "code",
   "execution_count": null,
   "id": "04f3d56b",
   "metadata": {},
   "outputs": [],
   "source": [
    "sns.pairplot(data= df1[['numcol','yieldpercol','totalprod','prodvalue','year']]);"
   ]
  },
  {
   "cell_type": "markdown",
   "id": "e4494d17",
   "metadata": {},
   "source": [
    "The variable numcol (number of colonies) has a positive relationship with total prod (total production) and prodvalue (production value), meaning that as the number of colonies increases, the total production and value also increase.\n",
    "\n",
    "The variable yield percol (yield per colony) has a negative relationship with numcol, meaning that as the number of colonies increases, the yield per colony decreases."
   ]
  },
  {
   "cell_type": "markdown",
   "id": "b155c6dc",
   "metadata": {},
   "source": [
    "# HEATMAP"
   ]
  },
  {
   "cell_type": "code",
   "execution_count": null,
   "id": "20584a2b",
   "metadata": {},
   "outputs": [],
   "source": [
    "sns.heatmap(data=df1[['numcol','yieldpercol','totalprod','stocks','priceperlb','prodvalue']].corr(), annot=True, cbar= False);"
   ]
  },
  {
   "cell_type": "markdown",
   "id": "05d1ec00",
   "metadata": {},
   "source": [
    "The Total production and Number of colonies has strong  positive correlation, meaning that the value is near to 1.\n",
    "\n",
    "The Priceperlb and Yieldpercol has strong negative correlation, meaning that the value is near to -1.\n",
    "\n",
    "\n"
   ]
  }
 ],
 "metadata": {
  "kernelspec": {
   "display_name": "Python 3 (ipykernel)",
   "language": "python",
   "name": "python3"
  },
  "language_info": {
   "codemirror_mode": {
    "name": "ipython",
    "version": 3
   },
   "file_extension": ".py",
   "mimetype": "text/x-python",
   "name": "python",
   "nbconvert_exporter": "python",
   "pygments_lexer": "ipython3",
   "version": "3.11.7"
  }
 },
 "nbformat": 4,
 "nbformat_minor": 5
}
